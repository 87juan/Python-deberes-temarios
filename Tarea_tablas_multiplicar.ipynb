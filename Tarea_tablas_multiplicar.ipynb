{
 "cells": [
  {
   "cell_type": "code",
   "execution_count": 4,
   "id": "37a0d536-d0de-4eb1-9d6c-f02161091e19",
   "metadata": {
    "tags": []
   },
   "outputs": [],
   "source": [
    "def validar_numero(mensaje):\n",
    "    while True:\n",
    "        try:\n",
    "            numero = int(input(mensaje))\n",
    "            return numero\n",
    "        except ValueError:\n",
    "            print(\"Debe ingresar un número válido.\")\n",
    "            \n",
    "def tablas_multi():\n",
    "    from collections import defaultdict\n",
    "    import random\n",
    "    tabla=validar_numero(\"¿Qué tabla quiere practicar? \")\n",
    "    l=defaultdict(list)\n",
    "    bien=0\n",
    "    mal=0\n",
    "    numeros = list(range(11))\n",
    "    random.shuffle(numeros)\n",
    "    for i in numeros:\n",
    "        mul=i*tabla\n",
    "        l[i]=mul\n",
    "    for x in l:\n",
    "        solucion=[]\n",
    "        solucion.append(l[x])\n",
    "        while True:\n",
    "            A=input(f\"{tabla}X{x}: \")\n",
    "            if A == \"\":\n",
    "                print(\"Debes ingresar una respuesta.\")\n",
    "                continue\n",
    "            try:\n",
    "                if int(A)==solucion[0]:\n",
    "                    print(\"Bien\")\n",
    "                    bien+=1\n",
    "                    break\n",
    "                else:\n",
    "                    print(\"Mal\")\n",
    "                    mal+=1\n",
    "                    break\n",
    "            except ValueError:\n",
    "                print(\"Debes ingresar un número entero.\")\n",
    "                continue\n",
    "    print(f\"Has acertado {bien} preguntas y has fallado {mal}.\")\n",
    "    if int(bien)>int(mal):\n",
    "        print(\"Muy bien, eres muy listo :D .\")\n",
    "    elif int(bien)==int(mal):\n",
    "        print(\"Ni bien ni mal\")\n",
    "    else:    \n",
    "        print(\"Te falta clases de matematica mira este enlace para aprender lo basico\")\n",
    "        print(\"https://www.youtube.com/watch?v=mCdA4bJAGGk&ab_channel=sweetblue.\")\n",
    "   "
   ]
  }
 ],
 "metadata": {
  "kernelspec": {
   "display_name": "Python 3 (ipykernel)",
   "language": "python",
   "name": "python3"
  },
  "language_info": {
   "codemirror_mode": {
    "name": "ipython",
    "version": 3
   },
   "file_extension": ".py",
   "mimetype": "text/x-python",
   "name": "python",
   "nbconvert_exporter": "python",
   "pygments_lexer": "ipython3",
   "version": "3.8.10"
  }
 },
 "nbformat": 4,
 "nbformat_minor": 5
}
