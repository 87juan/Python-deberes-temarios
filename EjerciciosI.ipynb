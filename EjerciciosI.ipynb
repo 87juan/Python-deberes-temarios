{
 "cells": [
  {
   "cell_type": "markdown",
   "metadata": {},
   "source": [
    "<img src=\"CIDaeNNB.png\" alt=\"Logo CiDAEN\" align=\"right\">\n",
    "\n",
    "\n",
    "<br><br><br>\n",
    "<h1><font color=\"#00586D\" size=5>Módulo 1</font></h1>\n",
    "\n",
    "\n",
    "\n",
    "<h1><font color=\"#00586D\" size=6>Python - Ejercicios</font></h1>\n",
    "\n",
    "<br>\n",
    "<div style=\"text-align: right\">\n",
    "<font color=\"#00586D\" size=3>Javier Cózar</font><br>\n",
    "<font color=\"#00586D\" size=3>Máster en Ciencia de Datos y Desarrollo de Aplicaciones en la Nube</font><br>\n",
    "<font color=\"#00586D\" size=3>Universidad de Castilla-La Mancha</font>\n",
    "\n",
    "</div>"
   ]
  },
  {
   "cell_type": "markdown",
   "metadata": {},
   "source": [
    "# <font color=\"#00586D\" size=6> Ejercicios Python I</font>"
   ]
  },
  {
   "cell_type": "markdown",
   "metadata": {},
   "source": [
    "<h3><font color=\"#00586D\" size=4> <i class=\"fa fa-pencil-square-o\" aria-hidden=\"true\" style=\"color:#00586D\"></i> Ejercicio 1</font></h3>\n",
    "\n",
    "Vamos a implementar en una celda un juego que consiste en adivinar una secuencia de números generada aleatoriamente por el intérprete. Se seguirá la siguiente secuencia de pasos:\n",
    "\n",
    "1. Nos debe preguntar por teclado la longitud de la secuencia de números que generará, variable que llamaremos `N` (por ejemplo, 4 generará secuencias con los números 1, 2, 3 y 4).\n",
    "2. Se generará una secuencia aleatoria que contendrá los números de 1 a `N`. Para ello se os proporciona en la siguiente celda el código que la genera.\n",
    "3. Usar un bucle en el que pregunte al usuario la cadena por teclado. Si el usuario acierta, el bucle termina e imprime un mensaje de enhorabuena. En caso contrario, se volverá a solicitar al usuario que introduzca una nueva cadena. Se debe llevar la cuenta del número de intentos y mostrar este valor al terminar.\n",
    "4. Opcionalmente se puede indicar, cuando se falla, cuántos números ha errado."
   ]
  },
  {
   "cell_type": "code",
   "execution_count": 4,
   "metadata": {
    "tags": []
   },
   "outputs": [
    {
     "name": "stdout",
     "output_type": "stream",
     "text": [
      "3412\n"
     ]
    }
   ],
   "source": [
    "import random  # necesario para generar la secuencia de números aleatoriamente\n",
    "\n",
    "# Como ejemplo declaramos N igual a un valor\n",
    "N = 4\n",
    "\n",
    "# Generamos una lista con N números, del 1 al N\n",
    "l = list(range(1, N + 1))\n",
    "# Con esta función reordenamos la lista\n",
    "random.shuffle(l)\n",
    "# Y finalmente generamos un string con esa combinación\n",
    "secuencia = ''.join([str(x) for x in l])\n",
    "print(secuencia)"
   ]
  },
  {
   "cell_type": "code",
   "execution_count": 5,
   "metadata": {
    "tags": []
   },
   "outputs": [],
   "source": [
    "# Completar..."
   ]
  },
  {
   "cell_type": "markdown",
   "metadata": {},
   "source": [
    "<h3><font color=\"#00586D\" size=4> <i class=\"fa fa-pencil-square-o\" aria-hidden=\"true\" style=\"color:#00586D\"></i> Ejercicio 2</font></h3>\n",
    "\n",
    "\n",
    "Crear una función que reciba un número entero, $N$, y calcule el número $N$ de la secuencia de _fibonacci_.\n",
    "\n",
    "La sucesión de _fibonacci_ comienza con los números 0 y 1. A partir de éstos, **cada término es la suma de los dos anteriores**. Por ejemplo, el número $3$ de la secuencia se calcula como:\n",
    "\n",
    "$$\n",
    "fibonacci(3) = fibonacci(1) + fibonacci(2) = 1 + (fibonacci(0) + fibonacci(1)) = 0 + 1 + 1 = 2\n",
    "$$"
   ]
  },
  {
   "cell_type": "code",
   "execution_count": 69,
   "metadata": {},
   "outputs": [],
   "source": [
    "# Completar\n"
   ]
  },
  {
   "cell_type": "code",
   "execution_count": 102,
   "metadata": {
    "tags": []
   },
   "outputs": [],
   "source": [
    "def fib(n):\n",
    "    if n < 2:\n",
    "        return n\n",
    "    else:\n",
    "        return fib(n-1) + fib(n-2)"
   ]
  },
  {
   "cell_type": "code",
   "execution_count": 139,
   "metadata": {
    "tags": []
   },
   "outputs": [
    {
     "name": "stdout",
     "output_type": "stream",
     "text": [
      "f0: 0\n",
      "f1: 1\n",
      "f2: 1\n",
      "f3: 2\n",
      "f4: 3\n",
      "f5: 5\n",
      "f6: 8\n",
      "f7: 13\n",
      "f8: 21\n",
      "f9: 34\n"
     ]
    },
    {
     "data": {
      "text/plain": [
       "1"
      ]
     },
     "execution_count": 139,
     "metadata": {},
     "output_type": "execute_result"
    }
   ],
   "source": [
    "\n",
    "\n",
    "def fibofer(n):\n",
    "    # Initialize the first two terms\n",
    "    a, b = 0, 1\n",
    "    \n",
    "    # Print the first two terms\n",
    "    print(f\"f0: {a}\")\n",
    "    print(f\"f1: {b}\")\n",
    "    \n",
    "    # Generate the remaining terms\n",
    "    for i in range(2, n):\n",
    "        c = a + b\n",
    "        a = b\n",
    "        b = c\n",
    "        print(f\"f{i}: {c}\")\n",
    "fibofer(10)\n",
    "0\n",
    "1\n"
   ]
  },
  {
   "cell_type": "markdown",
   "metadata": {},
   "source": [
    "<h3><font color=\"#00586D\" size=4> <i class=\"fa fa-pencil-square-o\" aria-hidden=\"true\" style=\"color:#00586D\"></i> Ejercicio 3</font></h3>\n",
    "\n",
    "\n",
    "Una matriz se puede representar como una lista de listas.** Por ejemplo, `[[1, 2], [3, 4]]` representa la matriz:\n",
    "\n",
    "$$\n",
    "   M=\n",
    "  \\left[ {\\begin{array}{cc}\n",
    "   1 & 2 \\\\\n",
    "   3 & 4 \\\\\n",
    "  \\end{array} } \\right]\n",
    "$$\n",
    "\n",
    "Dada la matriz `m` de tamaño 3x3, obten la diagonal principal."
   ]
  },
  {
   "cell_type": "code",
   "execution_count": 187,
   "metadata": {},
   "outputs": [],
   "source": [
    "m = [[1, 2, 3],\n",
    "     [4, 5, 6],\n",
    "     [7, 8, 9]]\n",
    "\n",
    "# Completar"
   ]
  },
  {
   "cell_type": "code",
   "execution_count": 188,
   "metadata": {
    "tags": []
   },
   "outputs": [
    {
     "name": "stdout",
     "output_type": "stream",
     "text": [
      "[1, 5, 9]\n"
     ]
    }
   ],
   "source": [
    "# Completar\n",
    "diagonal=[]\n",
    "c=0\n",
    "for i in m:\n",
    "    diagonal.append(m[c][c])\n",
    "    c +=1\n",
    "print(diagonal)"
   ]
  },
  {
   "cell_type": "markdown",
   "metadata": {},
   "source": [
    "<h3><font color=\"#00586D\" size=4> <i class=\"fa fa-pencil-square-o\" aria-hidden=\"true\" style=\"color:#00586D\"></i> Ejercicio 4</font></h3>\n",
    "\n",
    "\n",
    "Usando la representación de matrices anterior (como lista de listas) crear  una función que tenga como argumentos dos matrices y devuelva una nueva matriz que sea la multiplicación de ambas. La función debe comprobar la dimensión de ambas matrices y devolver un mensaje de error si la multiplicación no se puede realizar.\n",
    "\n",
    "**Nota**: Podéis consultar este [enlace](https://es.wikipedia.org/wiki/Multiplicaci%C3%B3n_de_matrices) para refrescar cómo se realizaba esta operación matricial.\n",
    "\n",
    "![multiplicacion_matrices1](https://wikimedia.org/api/rest_v1/media/math/render/svg/eaf31815f2a4eaaa947c8e4d186168b4303b6162)![multiplicacion_matrices2](https://wikimedia.org/api/rest_v1/media/math/render/svg/5d2bc2fecb59425505000359acbf8a860d37f775) ![multiplicacion_matrices2](https://wikimedia.org/api/rest_v1/media/math/render/svg/0edaf7474ad77d59d2f8edbab5d65d553dad2a9c) ![multiplicacion_matrices2](https://wikimedia.org/api/rest_v1/media/math/render/svg/4b1a770135ae22b430619f7963f27c13661a0137)\n"
   ]
  },
  {
   "cell_type": "code",
   "execution_count": 198,
   "metadata": {},
   "outputs": [],
   "source": [
    "# Completar"
   ]
  },
  {
   "cell_type": "code",
   "execution_count": null,
   "metadata": {},
   "outputs": [],
   "source": []
  },
  {
   "cell_type": "markdown",
   "metadata": {},
   "source": [
    "\n",
    "<h3><font color=\"#00586D\" size=4> <i class=\"fa fa-pencil-square-o\" aria-hidden=\"true\" style=\"color:#00586D\"></i> Ejercicio 5</font></h3>\n",
    "\n",
    "\n",
    "<h3><font color=\"#00586D\" size=3>Lista de números primos</font></h3>\n",
    "\n",
    "En este ejercicio utilizaremos la estrategia _\"divide y vencerás\"_ para resolver un problema _\"algo complejo\"_. En concreto, se **implementará una función que devuelve una lista con los números primeros desde el 1 hasta otro pasado por parámetro, inclusive**. La elección de este problema tan típico nos permititirá centrarnos en las herramientas que nos proporciona el lenguaje _Python_ en lugar de atascarnos con el problema en sí.\n",
    "\n",
    "Para resolver este problema, lo **subdividiremos** en otros más pequeños que sean más fáciles de abordar. Por ello, en las siguientes celdas se pedirá la resolución de pequeños problemas, y al final será la combinación de todas estas soluciones la que nos resolverá el problema inicial.\n"
   ]
  },
  {
   "cell_type": "markdown",
   "metadata": {},
   "source": [
    "**1.** En primer lugar implementaremos una función, llamada `es_divisible`, que recibe dos argumentos:\n",
    "\n",
    "- El primero, $n$, es el dividendo.\n",
    "- El segundo, $d$, es el divisor .\n",
    "\n",
    "Debe devolver un valor booleano: `True` si $n$ es divisible por $d$ (con resto 0); y `False` en caso contrario."
   ]
  },
  {
   "cell_type": "code",
   "execution_count": 15,
   "metadata": {},
   "outputs": [],
   "source": [
    "# Completar\n",
    "def  es_divisible(n,d):\n",
    "    return n%d==0"
   ]
  },
  {
   "cell_type": "code",
   "execution_count": 402,
   "metadata": {
    "tags": []
   },
   "outputs": [
    {
     "data": {
      "text/plain": [
       "False"
      ]
     },
     "execution_count": 402,
     "metadata": {},
     "output_type": "execute_result"
    }
   ],
   "source": [
    "es_divisible(1,2)"
   ]
  },
  {
   "cell_type": "markdown",
   "metadata": {},
   "source": [
    "**2.**  A continuación, implementaremos una función llamada `es_primo` para comprobar si un número $n$ es primo o no.\n",
    "Para ello, utilizaremos la función `es_divisible` implementada anteriormente."
   ]
  },
  {
   "cell_type": "code",
   "execution_count": 16,
   "metadata": {},
   "outputs": [],
   "source": [
    "# Completar\n",
    "def es_primo(n):\n",
    "    for i in range(2, n):\n",
    "        if es_divisible(n, i):\n",
    "            return False\n",
    "    return True"
   ]
  },
  {
   "cell_type": "code",
   "execution_count": 155,
   "metadata": {
    "tags": []
   },
   "outputs": [
    {
     "data": {
      "text/plain": [
       "False"
      ]
     },
     "execution_count": 155,
     "metadata": {},
     "output_type": "execute_result"
    }
   ],
   "source": [
    "es_primo(2)"
   ]
  },
  {
   "cell_type": "code",
   "execution_count": 157,
   "metadata": {
    "tags": []
   },
   "outputs": [
    {
     "data": {
      "text/plain": [
       "[1]"
      ]
     },
     "execution_count": 157,
     "metadata": {},
     "output_type": "execute_result"
    }
   ],
   "source": [
    "list(range(1, 2))"
   ]
  },
  {
   "cell_type": "markdown",
   "metadata": {},
   "source": [
    "**3.** En este punto deberíamos ser capaces de detectar si un número cualquiera es primo o no.\n",
    "\n",
    "En este apartado hay que pedir por terminal (función built-in `input`) un número entero y mostrar el siguiente mensaje si es primo:\n",
    "```\n",
    "\"¿El número X es primo? Sí\"\n",
    "```\n",
    "ó si no es primo:\n",
    "```\n",
    "\"¿El número X es primo? No\", donde X es el número introducido por pantalla.\n",
    "```"
   ]
  },
  {
   "cell_type": "code",
   "execution_count": 17,
   "metadata": {},
   "outputs": [
    {
     "name": "stdin",
     "output_type": "stream",
     "text": [
      "Pon un numero entero 2\n"
     ]
    },
    {
     "name": "stdout",
     "output_type": "stream",
     "text": [
      "¿El número 2 es primo? Sí\n"
     ]
    }
   ],
   "source": [
    "# Completar\n",
    "A=int(input(\"Pon un numero entero\"))\n",
    "if es_primo(A):\n",
    "    print(\"¿El número {} es primo? Sí\".format(A))\n",
    "else:\n",
    "    print(\"¿El número {} es primo? No\".format(A))"
   ]
  },
  {
   "cell_type": "markdown",
   "metadata": {},
   "source": [
    "**4.** Ahora vamos a implementar la función objetivo, que consiste en devolver la lista con los números primos menor o igual que $n$. Implementaremos una función, llamada `lista_primos`, que recibe el parámetro $n$,\n",
    "y devuelve una lista con los números primos iguales o más pequeños que $n$, $1$ incluido.\n",
    "\n",
    "<font size=4> <i class=\"fa fa-book\" aria-hidden=\"true\" style=\"color:#00586D\"></i> </font> _Nota_: puede ser de utilidad la función de listas `append`."
   ]
  },
  {
   "cell_type": "code",
   "execution_count": 18,
   "metadata": {},
   "outputs": [],
   "source": [
    "# Completar\n",
    "def lista_primos(n):\n",
    "    l = []\n",
    "    for i in range(n):\n",
    "        if es_primo(i+1):\n",
    "            l.append(i+1)\n",
    "    return l"
   ]
  },
  {
   "cell_type": "code",
   "execution_count": 19,
   "metadata": {
    "tags": []
   },
   "outputs": [
    {
     "data": {
      "text/plain": [
       "[1, 2, 3, 5, 7]"
      ]
     },
     "execution_count": 19,
     "metadata": {},
     "output_type": "execute_result"
    }
   ],
   "source": [
    "lista_primos(10)"
   ]
  },
  {
   "cell_type": "markdown",
   "metadata": {
    "tags": []
   },
   "source": [
    "La celda a continuación puede ser utilizada para comprobar su vuestro código funciona correctamente o no. En esta celda disponemos de unas entradas y sus correspondientes soluciones, y se comprueba para cada entrada el resultado de la función `lista_primos` con la solución esperada, imprimiendo por pantalla el mensaje correspondiente."
   ]
  },
  {
   "cell_type": "code",
   "execution_count": 20,
   "metadata": {},
   "outputs": [
    {
     "name": "stdout",
     "output_type": "stream",
     "text": [
      "Los números primos menores que 3 son: [1, 2, 3] (Solución correcta).\n",
      "Los números primos menores que 7 son: [1, 2, 3, 5, 7] (Solución correcta).\n",
      "Los números primos menores que 15 son: [1, 2, 3, 5, 7, 11, 13] (Solución correcta).\n",
      "Los números primos menores que 25 son: [1, 2, 3, 5, 7, 11, 13, 17, 19, 23] (Solución correcta).\n"
     ]
    }
   ],
   "source": [
    "# Código de test: \n",
    "# Se probará la función con estos cuatro valores de n\n",
    "entradas = [3, 7, 15, 25]\n",
    "# Y esta es la solución que debe dar con cada uno de ellos. \n",
    "soluciones = [[1, 2, 3],\n",
    "              [1, 2, 3, 5, 7],\n",
    "              [1, 2, 3, 5, 7, 11, 13],\n",
    "              [1, 2, 3, 5, 7, 11, 13, 17, 19, 23]]\n",
    "\n",
    "# Prueba con cada solución. \n",
    "for i in range(len(entradas)):\n",
    "    n = entradas[i]\n",
    "    resultado = lista_primos(n)\n",
    "    # Compara el resultado con la solución conocida y almacena el resultado.\n",
    "    if resultado == soluciones[i]:\n",
    "        es_correcto = \"correcta\"\n",
    "    else:\n",
    "        es_correcto = \"incorrecta\"\n",
    "    # Imprime el resultado del test, utilizando formato    \n",
    "    print(f\"Los números primos menores que {n} son: {resultado} (Solución {es_correcto}).\")"
   ]
  },
  {
   "cell_type": "markdown",
   "metadata": {},
   "source": [
    "<h3><font color=\"#00586D\" size=4> <i class=\"fa fa-pencil-square-o\" aria-hidden=\"true\" style=\"color:#00586D\"></i> Ejercicio 6</font></h3>\n",
    "\n",
    "\n",
    "En este ejercicio usaremos diccionarios, y nos centraremos en recorrerlos para obtener la información que necesitemos. Se proporciona el código de una función (`now`) que cuando se llama devuelve un número entero, que indica la fecha actual _(indica el número de segundos transcurridos desde el 1 de enero de 1970)_.\n",
    "\n",
    "Se pide:\n",
    "\n",
    "* Crear un bucle que solicite por teclado una letra un total de 10 veces (_¡cuando lo pruebes repite alguna!_)\n",
    "* Almacenar en un diccionario esta información, siendo la clave la letra introducida, y el valor una lista con los instantes de tiempo en las que han sido introducidas (enteros devueltos por la función `now`)\n",
    "\n",
    "Utilizando esta estructura de datos, responder a las siguientes preguntas:\n",
    "* ¿Cuál es la letra introducida más repetida?\n",
    "* ¿Cuál fué la primera letra en ser introducida? ¿Y la última?\n",
    "* ¿Cuánto tiempo has empleado en introducir las 10 letras?\n",
    "* ¿Cuál es el menor tiempo que ha transcurrido entre dos letras introducidas consecutivamente? ¿Y el mayor?"
   ]
  },
  {
   "cell_type": "code",
   "execution_count": 6,
   "metadata": {},
   "outputs": [],
   "source": [
    "import time\n",
    "\n",
    "def now():\n",
    "    return int(time.time())"
   ]
  },
  {
   "cell_type": "code",
   "execution_count": 7,
   "metadata": {
    "tags": []
   },
   "outputs": [
    {
     "data": {
      "text/plain": [
       "1681823838"
      ]
     },
     "execution_count": 7,
     "metadata": {},
     "output_type": "execute_result"
    }
   ],
   "source": [
    "now()"
   ]
  },
  {
   "cell_type": "code",
   "execution_count": 103,
   "metadata": {
    "tags": []
   },
   "outputs": [
    {
     "name": "stdin",
     "output_type": "stream",
     "text": [
      "ponga una letra qq\n",
      "ponga una letra q\n",
      "ponga una letra qq\n",
      "ponga una letra qq\n",
      "ponga una letra sa\n",
      "ponga una letra s\n",
      "ponga una letra d\n",
      "ponga una letra f\n",
      "ponga una letra e\n",
      "ponga una letra wqa\n"
     ]
    },
    {
     "name": "stdout",
     "output_type": "stream",
     "text": [
      "defaultdict(<class 'list'>, {'qq': [1681892666, 1681892667, 1681892668], 'q': [1681892666], 'sa': [1681892669], 's': [1681892670], 'd': [1681892671], 'f': [1681892672], 'e': [1681892673], 'wqa': [1681892674]})\n"
     ]
    }
   ],
   "source": [
    "# Completar\n",
    "from collections import defaultdict\n",
    "\n",
    "dic=defaultdict(list)\n",
    "for i in range(10):\n",
    "    clave=str(input(\"ponga una letra\"))\n",
    "    dic[clave].append(now())\n",
    "    primera_letra = list(dic.keys())[0]\n",
    "    ultima_letra = clave\n",
    "print(dic)"
   ]
  },
  {
   "cell_type": "code",
   "execution_count": 119,
   "metadata": {
    "tags": []
   },
   "outputs": [
    {
     "name": "stdout",
     "output_type": "stream",
     "text": [
      "La letra mas repetida es 'qq'\n"
     ]
    }
   ],
   "source": [
    "# 1º ¿Cuál es la letra introducida más repetida?\n",
    "l={}\n",
    "for i in dic.keys():\n",
    "        a=len(dic[i])\n",
    "        l[a]=i\n",
    "        valor=max(l)\n",
    "print(f\"La letra mas repetida es '{l[valor]}'\")"
   ]
  },
  {
   "cell_type": "code",
   "execution_count": 105,
   "metadata": {
    "tags": []
   },
   "outputs": [
    {
     "name": "stdout",
     "output_type": "stream",
     "text": [
      "qq\n",
      "wqa\n"
     ]
    }
   ],
   "source": [
    "# 2º ¿Cuál fué la primera letra en ser introducida? ¿Y la última?\n",
    "print( primera_letra)\n",
    "print( ultima_letra)"
   ]
  },
  {
   "cell_type": "code",
   "execution_count": 118,
   "metadata": {
    "tags": []
   },
   "outputs": [
    {
     "data": {
      "text/plain": [
       "8"
      ]
     },
     "execution_count": 118,
     "metadata": {},
     "output_type": "execute_result"
    }
   ],
   "source": [
    "# 3º ¿Cuánto tiempo has empleado en introducir las 10 letras?\n",
    "segundos_empleados = max(dic[ultima_letra]) - min(dic[primera_letra])\n",
    "segundos_empleados "
   ]
  }
 ],
 "metadata": {
  "kernelspec": {
   "display_name": "Python 3 (ipykernel)",
   "language": "python",
   "name": "python3"
  },
  "language_info": {
   "codemirror_mode": {
    "name": "ipython",
    "version": 3
   },
   "file_extension": ".py",
   "mimetype": "text/x-python",
   "name": "python",
   "nbconvert_exporter": "python",
   "pygments_lexer": "ipython3",
   "version": "3.8.10"
  }
 },
 "nbformat": 4,
 "nbformat_minor": 4
}
