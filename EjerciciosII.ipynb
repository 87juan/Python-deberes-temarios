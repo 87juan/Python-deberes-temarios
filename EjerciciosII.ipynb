{
 "cells": [
  {
   "cell_type": "markdown",
   "metadata": {},
   "source": [
    "<img src=\"CIDaeNNB.png\" alt=\"Logo CiDAEN\" align=\"right\">\n",
    "\n",
    "\n",
    "<br><br><br>\n",
    "<h1><font color=\"#00586D\" size=5>Módulo 1</font></h1>\n",
    "\n",
    "\n",
    "\n",
    "<h1><font color=\"#00586D\" size=6>Python - Ejercicios</font></h1>\n",
    "\n",
    "<br>\n",
    "<div style=\"text-align: right\">\n",
    "<font color=\"#00586D\" size=3>Javier Cózar</font><br>\n",
    "<font color=\"#00586D\" size=3>Máster en Ciencia de Datos y Desarrollo de Aplicaciones en la Nube</font><br>\n",
    "<font color=\"#00586D\" size=3>Universidad de Castilla-La Mancha</font>\n",
    "\n",
    "</div>"
   ]
  },
  {
   "cell_type": "markdown",
   "metadata": {},
   "source": [
    "# <font color=\"#00586D\" size=6> Ejercicios Python II</font>"
   ]
  },
  {
   "cell_type": "markdown",
   "metadata": {},
   "source": [
    "<h3><font color=\"#00586D\" size=4> <i class=\"fa fa-pencil-square-o\" aria-hidden=\"true\" style=\"color:#00586D\"></i> Ejercicio 7</font></h3>\n",
    "\n",
    "<h3><font color=\"#00586D\" size=4> Personajes de Juego de Tronos </font></h3>\n",
    "\n",
    "\n",
    "El archivo `book1.csv` contiene información sobre los personajes del primer libro de la saga _\"Canción de hielo y fuego\"_, llevado a la ficción televisiva en la famosa serie _\"Juego de tronos\"_. En concreto, cada línea contiene información sobre un par de personajes, e indica si, en el libro, aparecen a una distancia de menos de 15 palabras el uno del otro.\n",
    "\n",
    "Este archvo corresponde en realidad a una tabla cuyas **columnas** son _Source_, _Target_, _Type_, _weight_ y _book_. _Source_ y _Target_ son los personajes relacionados. _Type_ siempre tiene el valor _undirected_, y _weight_ es el numero de veces que esa relación se da en el libro. Por último, _book_ tiene siempre el valor 1."
   ]
  },
  {
   "cell_type": "markdown",
   "metadata": {},
   "source": [
    "El texto consiste en un string, en el que:\n",
    "- Cada línea está separada por el carácter `'\\n'` (salto de línea).\n",
    "- Cada línea está formada por una serie de campos separados por el carácter `','`. \n",
    "- La primera linea es el header del csv (contiene los nombres de las columnas), mientras que el resto de líneas son los datos."
   ]
  },
  {
   "cell_type": "markdown",
   "metadata": {},
   "source": [
    "En este ejercicio se pide:\n",
    "\n",
    "**1.** Leer el fichero de texto y crear un diccionario en el que la clave sea el nombre de un personaje $p_1$, y el valor sea una lista de tuplas [(personaje $p_2$, $w$), ...], donde los personajes de cada tupla $p_2$ están relacionados con $p_1$ un total de $w$ veces."
   ]
  },
  {
   "cell_type": "markdown",
   "metadata": {},
   "source": [
    "<div class=\"alert alert-block alert-info\">\n",
    "<i class=\"fa fa-info-circle\" aria-hidden=\"true\"></i>\n",
    "Puede ser de utilidad descomponer el problema en pequeñas partes. Por ejemplo:\n",
    "</div>\n",
    "\n",
    "1. Obtener por un lado la lista de nombres de columnas, y por otro los datos, como una lista de listas\n",
    "2. Puede ser de utilidad el diccionario defaultdict\n",
    "3. **OJO**: Si un personaje (campo _Source_) está relacionado con otro (campo _Target_), ¡el otro está relacionado también con el uno!"
   ]
  },
  {
   "cell_type": "code",
   "execution_count": 30,
   "metadata": {},
   "outputs": [
    {
     "name": "stdout",
     "output_type": "stream",
     "text": [
      "Source,Target,Type,weight,book\n",
      "Addam-Marbrand,Jaime-Lannister,Undirected,3,1\n",
      "Addam-Marbrand,Tywin-Lannister,Undirected,6,1\n",
      "Aegon-I-Targaryen,Daenerys-Targaryen,Undirected,5,1\n",
      "Aegon-I-Targaryen,Eddard-Stark,Undirected,4,1\n",
      "Aemon-Targaryen-(Maester-Aemon),Alliser-Thorne,Undirected,4,1\n",
      "Aemon-Targaryen-(Maester-Aemon),Bowen-Marsh,Undirected,4,1\n",
      "Aemon-Targaryen-(Maester-Aemon),Chett,Undirected,9,1\n",
      "Aemon-Targaryen-(Maester-Aemon),Clydas,Undirected,5,1\n",
      "Aemon-Targaryen-(Maester-Aemon),Jeor-Mormont,Undirected,13,1\n"
     ]
    }
   ],
   "source": [
    "# Completar\n",
    "!head data/book1.csv\n",
    "raw_data=[]"
   ]
  },
  {
   "cell_type": "code",
   "execution_count": 67,
   "metadata": {
    "tags": []
   },
   "outputs": [
    {
     "name": "stdout",
     "output_type": "stream",
     "text": [
      "['Waymar-Royce', 'Will-(prologue)', 'Undirected', '18', '1']\n"
     ]
    }
   ],
   "source": [
    "print(row)"
   ]
  },
  {
   "cell_type": "code",
   "execution_count": 210,
   "metadata": {
    "tags": []
   },
   "outputs": [],
   "source": [
    "def to_dict(row, relaciones):\n",
    "    Source, Target, _, weight, _ = row\n",
    "    relaciones[Source].append((Target, int(weight)))\n",
    "    relaciones[Target].append((Source, int(weight)))"
   ]
  },
  {
   "cell_type": "code",
   "execution_count": 216,
   "metadata": {
    "tags": []
   },
   "outputs": [
    {
     "data": {
      "text/plain": [
       "[('Brynden-Tully', 3),\n",
       " ('Catelyn-Stark', 7),\n",
       " ('Eddard-Stark', 3),\n",
       " ('Hoster-Tully', 7),\n",
       " ('Jaime-Lannister', 4),\n",
       " ('Karyl-Vance', 4),\n",
       " ('Lysa-Arryn', 5),\n",
       " ('Marq-Piper', 3),\n",
       " ('Petyr-Baelish', 4),\n",
       " ('Robb-Stark', 5),\n",
       " ('Tytos-Blackwood', 3)]"
      ]
     },
     "execution_count": 216,
     "metadata": {},
     "output_type": "execute_result"
    }
   ],
   "source": [
    "from collections import defaultdict\n",
    "\n",
    "with open(\"data/book1.csv\") as f:\n",
    "    raw_text = f.read()\n",
    "\n",
    "raw_data=[]\n",
    "for lista in raw_text.split('\\n'):\n",
    "    raw_data.append(lista.split(','))\n",
    "# raw_data = [line.split(',') for line in raw_text.split('\\n')] codigo mas comprimido y mejor que el anterior\n",
    "header = raw_data[0]\n",
    "data = raw_data[1:]\n",
    "\n",
    "relaciones = defaultdict(list)\n",
    "\n",
    "for row in data:\n",
    "    to_dict(row, relaciones)\n",
    "relaciones['Edmure-Tully']"
   ]
  },
  {
   "cell_type": "markdown",
   "metadata": {},
   "source": [
    "Para comprobar que funciona, relaciones['Edmure-Tully'] deve devolver:\n",
    "```python\n",
    " [('Brynden-Tully', 3),\n",
    " ('Catelyn-Stark', 7),\n",
    " ('Eddard-Stark', 3),\n",
    " ('Hoster-Tully', 7),\n",
    " ('Jaime-Lannister', 4),\n",
    " ('Karyl-Vance', 4),\n",
    " ('Lysa-Arryn', 5),\n",
    " ('Marq-Piper', 3),\n",
    " ('Petyr-Baelish', 4),\n",
    " ('Robb-Stark', 5),\n",
    " ('Tytos-Blackwood', 3)]\n",
    "```"
   ]
  },
  {
   "cell_type": "markdown",
   "metadata": {},
   "source": [
    "**2.** Obtener todos los personajes (sin repeticiones) que aparecen en el libro."
   ]
  },
  {
   "cell_type": "code",
   "execution_count": 191,
   "metadata": {},
   "outputs": [
    {
     "data": {
      "text/plain": [
       "187"
      ]
     },
     "execution_count": 191,
     "metadata": {},
     "output_type": "execute_result"
    }
   ],
   "source": [
    "# Completar\n",
    "# Para comprobar que funciona, el número de personajes distintos debe ser 187\n",
    "nº_personaje=len(relaciones.keys())\n",
    "nº_personaje"
   ]
  },
  {
   "cell_type": "markdown",
   "metadata": {},
   "source": [
    "**3.** Hacer una función `mas_relacionado_personajes()` que devuelva el personaje con mayor numero de personajes distintos relacionados (notad que el campo $weight$ no tiene que ser usado en este momento)."
   ]
  },
  {
   "cell_type": "code",
   "execution_count": 192,
   "metadata": {},
   "outputs": [
    {
     "data": {
      "text/plain": [
       "('Eddard-Stark', 66)"
      ]
     },
     "execution_count": 192,
     "metadata": {},
     "output_type": "execute_result"
    }
   ],
   "source": [
    "# Completar\n",
    "# Para comprobar que funciona, mas_relacionado_personajes() deve devolver ('Eddard-Stark', 66)\n",
    "def mas_relacionado_personajes():\n",
    "    return max([(personaje, len(rel)) for personaje, rel in relaciones.items()], key=lambda x: x[1])\n",
    "\n",
    "mas_relacionado_personajes()"
   ]
  },
  {
   "cell_type": "code",
   "execution_count": 152,
   "metadata": {
    "collapsed": true,
    "jupyter": {
     "outputs_hidden": true
    },
    "tags": []
   },
   "outputs": [
    {
     "name": "stdout",
     "output_type": "stream",
     "text": [
      "Eddard-Stark 66\n"
     ]
    },
    {
     "data": {
      "text/plain": [
       "([('Addam-Marbrand', 2),\n",
       "  ('Jaime-Lannister', 29),\n",
       "  ('Tywin-Lannister', 22),\n",
       "  ('Aegon-I-Targaryen', 2),\n",
       "  ('Daenerys-Targaryen', 21),\n",
       "  ('Eddard-Stark', 66),\n",
       "  ('Aemon-Targaryen-(Maester-Aemon)', 7),\n",
       "  ('Alliser-Thorne', 10),\n",
       "  ('Bowen-Marsh', 5),\n",
       "  ('Chett', 3),\n",
       "  ('Clydas', 1),\n",
       "  ('Jeor-Mormont', 13),\n",
       "  ('Jon-Snow', 37),\n",
       "  ('Samwell-Tarly', 12),\n",
       "  ('Aerys-II-Targaryen', 6),\n",
       "  ('Brandon-Stark', 6),\n",
       "  ('Gerold-Hightower', 5),\n",
       "  ('Jon-Arryn', 15),\n",
       "  ('Robert-Baratheon', 50),\n",
       "  ('Aggo', 6),\n",
       "  ('Drogo', 19),\n",
       "  ('Jhogo', 6),\n",
       "  ('Jorah-Mormont', 13),\n",
       "  ('Quaro', 5),\n",
       "  ('Rakharo', 5),\n",
       "  ('Albett', 3),\n",
       "  ('Halder', 8),\n",
       "  ('Rast', 6),\n",
       "  ('Grenn', 7),\n",
       "  ('Pypar', 7),\n",
       "  ('Tyrion-Lannister', 46),\n",
       "  ('Alyn', 5),\n",
       "  ('Harwin', 4),\n",
       "  ('Jory-Cassel', 21),\n",
       "  ('Tomard', 7),\n",
       "  ('Arthur-Dayne', 1),\n",
       "  ('Arya-Stark', 27),\n",
       "  ('Benjen-Stark', 14),\n",
       "  ('Bran-Stark', 32),\n",
       "  ('Catelyn-Stark', 43),\n",
       "  ('Cersei-Lannister', 30),\n",
       "  ('Desmond', 2),\n",
       "  ('Ilyn-Payne', 9),\n",
       "  ('Jeyne-Poole', 6),\n",
       "  ('Joffrey-Baratheon', 30),\n",
       "  ('Meryn-Trant', 9),\n",
       "  ('Mordane', 11),\n",
       "  ('Mycah', 5),\n",
       "  ('Myrcella-Baratheon', 7),\n",
       "  ('Petyr-Baelish', 26),\n",
       "  ('Rickon-Stark', 9),\n",
       "  ('Robb-Stark', 35),\n",
       "  ('Rodrik-Cassel', 18),\n",
       "  ('Sandor-Clegane', 16),\n",
       "  ('Sansa-Stark', 35),\n",
       "  ('Syrio-Forel', 3),\n",
       "  ('Tommen-Baratheon', 8),\n",
       "  ('Vayon-Poole', 5),\n",
       "  ('Yoren', 7),\n",
       "  ('Arys-Oakheart', 1),\n",
       "  ('Balon-Greyjoy', 2),\n",
       "  ('Balon-Swann', 2),\n",
       "  ('Renly-Baratheon', 18),\n",
       "  ('Barristan-Selmy', 14),\n",
       "  ('Boros-Blount', 5),\n",
       "  ('Pycelle', 14),\n",
       "  ('Varys', 17),\n",
       "  ('Jaremy-Rykker', 4),\n",
       "  ('Luwin', 18),\n",
       "  ('Mance-Rayder', 1),\n",
       "  ('Theon-Greyjoy', 15),\n",
       "  ('Waymar-Royce', 3),\n",
       "  ('Beric-Dondarrion', 6),\n",
       "  ('Gregor-Clegane', 12),\n",
       "  ('Loras-Tyrell', 14),\n",
       "  ('Thoros-of-Myr', 1),\n",
       "  ('Hali', 1),\n",
       "  ('Hallis-Mollen', 5),\n",
       "  ('Hodor', 4),\n",
       "  ('Hullen', 6),\n",
       "  ('Joseth', 2),\n",
       "  ('Nan', 4),\n",
       "  ('Osha', 3),\n",
       "  ('Rickard-Karstark', 10),\n",
       "  ('Rickard-Stark', 2),\n",
       "  ('Stiv', 2),\n",
       "  ('Lyanna-Stark', 4),\n",
       "  ('Bronn', 10),\n",
       "  ('Chiggen', 3),\n",
       "  ('Marillion', 5),\n",
       "  ('Shae', 2),\n",
       "  ('Shagga', 6),\n",
       "  ('Vardis-Egen', 6),\n",
       "  ('Willis-Wode', 6),\n",
       "  ('Brynden-Tully', 11),\n",
       "  ('Edmure-Tully', 11),\n",
       "  ('Hoster-Tully', 5),\n",
       "  ('Lysa-Arryn', 15),\n",
       "  ('Nestor-Royce', 2),\n",
       "  ('Walder-Frey', 7),\n",
       "  ('Colemon', 2),\n",
       "  ('Donnel-Waynwood', 1),\n",
       "  ('Eon-Hunter', 3),\n",
       "  ('Jon-Umber-(Greatjon)', 8),\n",
       "  ('Masha-Heddle', 1),\n",
       "  ('Moreo-Tumitis', 1),\n",
       "  ('Mya-Stone', 1),\n",
       "  ('Mychel-Redfort', 1),\n",
       "  ('Robert-Arryn', 3),\n",
       "  ('Stevron-Frey', 2),\n",
       "  ('Tytos-Blackwood', 3),\n",
       "  ('Wendel-Manderly', 2),\n",
       "  ('Cayn', 3),\n",
       "  ('Janos-Slynt', 7),\n",
       "  ('Stannis-Baratheon', 12),\n",
       "  ('Chella', 1),\n",
       "  ('Clement-Piper', 1),\n",
       "  ('Karyl-Vance', 3),\n",
       "  ('Cohollo', 4),\n",
       "  ('Haggo', 6),\n",
       "  ('Qotho', 7),\n",
       "  ('Conn', 3),\n",
       "  ('Coratt', 1),\n",
       "  ('Doreah', 6),\n",
       "  ('Eroeh', 1),\n",
       "  ('Illyrio-Mopatis', 6),\n",
       "  ('Irri', 8),\n",
       "  ('Jhiqui', 5),\n",
       "  ('Mirri-Maz-Duur', 6),\n",
       "  ('Rhaegar-Targaryen', 7),\n",
       "  ('Viserys-Targaryen', 8),\n",
       "  ('Danwell-Frey', 3),\n",
       "  ('Hosteen-Frey', 2),\n",
       "  ('Jared-Frey', 2),\n",
       "  ('Dareon', 1),\n",
       "  ('Daryn-Hornwood', 2),\n",
       "  ('Torrhen-Karstark', 3),\n",
       "  ('Dolf', 1),\n",
       "  ('Donal-Noye', 1),\n",
       "  ('Jommo', 2),\n",
       "  ('Ogo', 3),\n",
       "  ('Rhaego', 1),\n",
       "  ('Dywen', 1),\n",
       "  ('Galbart-Glover', 6),\n",
       "  ('Gendry', 1),\n",
       "  ('High-Septon-(fat_one)', 2),\n",
       "  ('Howland-Reed', 1),\n",
       "  ('Jacks', 1),\n",
       "  ('Joss', 1),\n",
       "  ('Marq-Piper', 5),\n",
       "  ('Porther', 1),\n",
       "  ('Raymun-Darry', 2),\n",
       "  ('Tobho-Mott', 1),\n",
       "  ('Tregar', 1),\n",
       "  ('Varly', 1),\n",
       "  ('Wyl-(guard)', 4),\n",
       "  ('Wylla', 1),\n",
       "  ('Fogo', 1),\n",
       "  ('Roose-Bolton', 5),\n",
       "  ('Gared', 3),\n",
       "  ('Will-(prologue)', 2),\n",
       "  ('Oswell-Whent', 1),\n",
       "  ('Todder', 4),\n",
       "  ('Gunthor-son-of-Gurn', 1),\n",
       "  ('Harys-Swyft', 1),\n",
       "  ('Heward', 2),\n",
       "  ('Hobb', 1),\n",
       "  ('Hugh', 1),\n",
       "  ('Jafer-Flowers', 1),\n",
       "  ('Kevan-Lannister', 3),\n",
       "  ('Matthar', 1),\n",
       "  ('Othor', 1),\n",
       "  ('Maege-Mormont', 2),\n",
       "  ('Jonos-Bracken', 1),\n",
       "  ('Jyck', 2),\n",
       "  ('Morrec', 2),\n",
       "  ('Kurleket', 1),\n",
       "  ('Lancel-Lannister', 1),\n",
       "  ('Leo-Lefford', 1),\n",
       "  ('Mace-Tyrell', 2),\n",
       "  ('Lyn-Corbray', 1),\n",
       "  ('Paxter-Redwyne', 1),\n",
       "  ('Maegor-I-Targaryen', 1),\n",
       "  ('Mord', 1),\n",
       "  ('Randyll-Tarly', 1),\n",
       "  ('Timett', 2),\n",
       "  ('Ulf-son-of-Umar', 1)],\n",
       " <function __main__.obtener_segundo_elemento(tupla)>)"
      ]
     },
     "execution_count": 152,
     "metadata": {},
     "output_type": "execute_result"
    }
   ],
   "source": [
    "# PARA ENTENDER EL max([(personaje, len(rel)) for personaje, rel in relaciones.items()], key=lambda x: x[1])\n",
    "def obtener_segundo_elemento(tupla):\n",
    "    return tupla[1]\n",
    "\n",
    "# Crear lista de tuplas (personaje, cantidad de relaciones)\n",
    "LLL = []\n",
    "for personaje, rel in relaciones.items():\n",
    "    LLL.append((personaje, len(rel)))\n",
    "\n",
    "# Encontrar la tupla con el máximo valor en la posición 1 (cantidad de relaciones)\n",
    "max_tupla = max(LLL, key=obtener_segundo_elemento)\n",
    "la_tupla =(LLL, obtener_segundo_elemento)\n",
    "# Imprimir el personaje con la mayor cantidad de relaciones\n",
    "print(max_tupla[0],max_tupla[1])\n",
    "max_tupla\n",
    "la_tupla"
   ]
  },
  {
   "cell_type": "markdown",
   "metadata": {},
   "source": [
    "**4.** Hacer una función `mas_relacionado_ocurrencias()` que devuelva el personaje con mayor numero de relaciones, siendo éste la suma de los valores `weight` de cada personaje relacionado."
   ]
  },
  {
   "cell_type": "code",
   "execution_count": 153,
   "metadata": {},
   "outputs": [
    {
     "data": {
      "text/plain": [
       "('Eddard-Stark', 1284)"
      ]
     },
     "execution_count": 153,
     "metadata": {},
     "output_type": "execute_result"
    }
   ],
   "source": [
    "# Completar\n",
    "# Para comprobar que funciona, mas_relacionado_ocurrencias() deve devolver ('Eddard-Stark', 1284)\n",
    "def mas_relacionado_ocurrencias():\n",
    "    return max([(personaje, sum([w for _, w in rel]) ) for personaje, rel in relaciones.items()], key=lambda x: x[1])\n",
    "\n",
    "mas_relacionado_ocurrencias()"
   ]
  },
  {
   "cell_type": "code",
   "execution_count": 214,
   "metadata": {
    "collapsed": true,
    "jupyter": {
     "outputs_hidden": true
    },
    "tags": []
   },
   "outputs": [
    {
     "name": "stdout",
     "output_type": "stream",
     "text": [
      "Eddard-Stark 1284\n"
     ]
    },
    {
     "data": {
      "text/plain": [
       "[('Addam-Marbrand', 9),\n",
       " ('Jaime-Lannister', 241),\n",
       " ('Tywin-Lannister', 181),\n",
       " ('Aegon-I-Targaryen', 9),\n",
       " ('Daenerys-Targaryen', 443),\n",
       " ('Eddard-Stark', 1284),\n",
       " ('Aemon-Targaryen-(Maester-Aemon)', 74),\n",
       " ('Alliser-Thorne', 80),\n",
       " ('Bowen-Marsh', 28),\n",
       " ('Chett', 19),\n",
       " ('Clydas', 5),\n",
       " ('Jeor-Mormont', 181),\n",
       " ('Jon-Snow', 784),\n",
       " ('Samwell-Tarly', 148),\n",
       " ('Aerys-II-Targaryen', 37),\n",
       " ('Brandon-Stark', 41),\n",
       " ('Gerold-Hightower', 17),\n",
       " ('Jon-Arryn', 169),\n",
       " ('Robert-Baratheon', 941),\n",
       " ('Aggo', 36),\n",
       " ('Drogo', 256),\n",
       " ('Jhogo', 43),\n",
       " ('Jorah-Mormont', 154),\n",
       " ('Quaro', 21),\n",
       " ('Rakharo', 24),\n",
       " ('Albett', 11),\n",
       " ('Halder', 56),\n",
       " ('Rast', 26),\n",
       " ('Grenn', 85),\n",
       " ('Pypar', 107),\n",
       " ('Tyrion-Lannister', 650),\n",
       " ('Alyn', 32),\n",
       " ('Harwin', 18),\n",
       " ('Jory-Cassel', 152),\n",
       " ('Tomard', 42),\n",
       " ('Arthur-Dayne', 4),\n",
       " ('Arya-Stark', 430),\n",
       " ('Benjen-Stark', 104),\n",
       " ('Bran-Stark', 531),\n",
       " ('Catelyn-Stark', 520),\n",
       " ('Cersei-Lannister', 424),\n",
       " ('Desmond', 7),\n",
       " ('Ilyn-Payne', 43),\n",
       " ('Jeyne-Poole', 54),\n",
       " ('Joffrey-Baratheon', 422),\n",
       " ('Meryn-Trant', 36),\n",
       " ('Mordane', 141),\n",
       " ('Mycah', 50),\n",
       " ('Myrcella-Baratheon', 54),\n",
       " ('Petyr-Baelish', 313),\n",
       " ('Rickon-Stark', 98),\n",
       " ('Robb-Stark', 516),\n",
       " ('Rodrik-Cassel', 124),\n",
       " ('Sandor-Clegane', 135),\n",
       " ('Sansa-Stark', 545),\n",
       " ('Syrio-Forel', 31),\n",
       " ('Tommen-Baratheon', 37),\n",
       " ('Vayon-Poole', 28),\n",
       " ('Yoren', 33),\n",
       " ('Arys-Oakheart', 3),\n",
       " ('Balon-Greyjoy', 7),\n",
       " ('Balon-Swann', 6),\n",
       " ('Renly-Baratheon', 186),\n",
       " ('Barristan-Selmy', 143),\n",
       " ('Boros-Blount', 26),\n",
       " ('Pycelle', 150),\n",
       " ('Varys', 231),\n",
       " ('Jaremy-Rykker', 24),\n",
       " ('Luwin', 210),\n",
       " ('Mance-Rayder', 3),\n",
       " ('Theon-Greyjoy', 133),\n",
       " ('Waymar-Royce', 34),\n",
       " ('Beric-Dondarrion', 28),\n",
       " ('Gregor-Clegane', 74),\n",
       " ('Loras-Tyrell', 78),\n",
       " ('Thoros-of-Myr', 5),\n",
       " ('Hali', 3),\n",
       " ('Hallis-Mollen', 37),\n",
       " ('Hodor', 52),\n",
       " ('Hullen', 20),\n",
       " ('Joseth', 7),\n",
       " ('Nan', 33),\n",
       " ('Osha', 31),\n",
       " ('Rickard-Karstark', 46),\n",
       " ('Rickard-Stark', 7),\n",
       " ('Stiv', 7),\n",
       " ('Lyanna-Stark', 36),\n",
       " ('Bronn', 109),\n",
       " ('Chiggen', 16),\n",
       " ('Marillion', 29),\n",
       " ('Shae', 15),\n",
       " ('Shagga', 44),\n",
       " ('Vardis-Egen', 37),\n",
       " ('Willis-Wode', 28),\n",
       " ('Brynden-Tully', 69),\n",
       " ('Edmure-Tully', 48),\n",
       " ('Hoster-Tully', 24),\n",
       " ('Lysa-Arryn', 138),\n",
       " ('Nestor-Royce', 6),\n",
       " ('Walder-Frey', 41),\n",
       " ('Colemon', 7),\n",
       " ('Donnel-Waynwood', 3),\n",
       " ('Eon-Hunter', 9),\n",
       " ('Jon-Umber-(Greatjon)', 39),\n",
       " ('Masha-Heddle', 5),\n",
       " ('Moreo-Tumitis', 3),\n",
       " ('Mya-Stone', 9),\n",
       " ('Mychel-Redfort', 3),\n",
       " ('Robert-Arryn', 20),\n",
       " ('Stevron-Frey', 8),\n",
       " ('Tytos-Blackwood', 10),\n",
       " ('Wendel-Manderly', 6),\n",
       " ('Cayn', 16),\n",
       " ('Janos-Slynt', 25),\n",
       " ('Stannis-Baratheon', 105),\n",
       " ('Chella', 5),\n",
       " ('Clement-Piper', 4),\n",
       " ('Karyl-Vance', 11),\n",
       " ('Cohollo', 29),\n",
       " ('Haggo', 45),\n",
       " ('Qotho', 68),\n",
       " ('Conn', 20),\n",
       " ('Coratt', 5),\n",
       " ('Doreah', 51),\n",
       " ('Eroeh', 5),\n",
       " ('Illyrio-Mopatis', 70),\n",
       " ('Irri', 81),\n",
       " ('Jhiqui', 60),\n",
       " ('Mirri-Maz-Duur', 63),\n",
       " ('Rhaegar-Targaryen', 53),\n",
       " ('Viserys-Targaryen', 105),\n",
       " ('Danwell-Frey', 9),\n",
       " ('Hosteen-Frey', 6),\n",
       " ('Jared-Frey', 6),\n",
       " ('Dareon', 6),\n",
       " ('Daryn-Hornwood', 6),\n",
       " ('Torrhen-Karstark', 11),\n",
       " ('Dolf', 7),\n",
       " ('Donal-Noye', 7),\n",
       " ('Jommo', 6),\n",
       " ('Ogo', 18),\n",
       " ('Rhaego', 5),\n",
       " ('Dywen', 4),\n",
       " ('Galbart-Glover', 23),\n",
       " ('Gendry', 3),\n",
       " ('High-Septon-(fat_one)', 8),\n",
       " ('Howland-Reed', 3),\n",
       " ('Jacks', 4),\n",
       " ('Joss', 5),\n",
       " ('Marq-Piper', 18),\n",
       " ('Porther', 4),\n",
       " ('Raymun-Darry', 12),\n",
       " ('Tobho-Mott', 7),\n",
       " ('Tregar', 4),\n",
       " ('Varly', 4),\n",
       " ('Wyl-(guard)', 15),\n",
       " ('Wylla', 3),\n",
       " ('Fogo', 4),\n",
       " ('Roose-Bolton', 19),\n",
       " ('Gared', 29),\n",
       " ('Will-(prologue)', 30),\n",
       " ('Oswell-Whent', 3),\n",
       " ('Todder', 31),\n",
       " ('Gunthor-son-of-Gurn', 7),\n",
       " ('Harys-Swyft', 3),\n",
       " ('Heward', 8),\n",
       " ('Hobb', 5),\n",
       " ('Hugh', 3),\n",
       " ('Jafer-Flowers', 3),\n",
       " ('Kevan-Lannister', 28),\n",
       " ('Matthar', 3),\n",
       " ('Othor', 5),\n",
       " ('Maege-Mormont', 8),\n",
       " ('Jonos-Bracken', 3),\n",
       " ('Jyck', 11),\n",
       " ('Morrec', 10),\n",
       " ('Kurleket', 5),\n",
       " ('Lancel-Lannister', 3),\n",
       " ('Leo-Lefford', 4),\n",
       " ('Mace-Tyrell', 6),\n",
       " ('Lyn-Corbray', 3),\n",
       " ('Paxter-Redwyne', 3),\n",
       " ('Maegor-I-Targaryen', 4),\n",
       " ('Mord', 20),\n",
       " ('Randyll-Tarly', 5),\n",
       " ('Timett', 7),\n",
       " ('Ulf-son-of-Umar', 4)]"
      ]
     },
     "execution_count": 214,
     "metadata": {},
     "output_type": "execute_result"
    }
   ],
   "source": [
    "# MAS LARGO PERO SE ENTIENDE MEJOR\n",
    "resultados = []\n",
    "for personaje, rel in relaciones.items():\n",
    "    pesos = []\n",
    "    for _, peso in rel:\n",
    "        pesos.append(peso)\n",
    "    suma_de_pesos = sum(pesos)\n",
    "    resultado = (personaje, suma_de_pesos)\n",
    "    resultados.append(resultado)\n",
    "\n",
    "max_resultados = max(resultados, key=obtener_segundo_elemento)\n",
    "\n",
    "print(max_resultados[0],max_resultados[1])\n",
    "\n",
    "resultados"
   ]
  },
  {
   "cell_type": "markdown",
   "metadata": {},
   "source": [
    "**5.** Hacer una función `no_relacionados(nombre)` que devuelva la lista de personajes que no están relacionados directamente con el nombre del personaje proporcionado."
   ]
  },
  {
   "cell_type": "code",
   "execution_count": 227,
   "metadata": {
    "tags": []
   },
   "outputs": [
    {
     "data": {
      "text/plain": [
       "['Addam-Marbrand',\n",
       " 'Aemon-Targaryen-(Maester-Aemon)',\n",
       " 'Aggo',\n",
       " 'Albett',\n",
       " 'Alliser-Thorne']"
      ]
     },
     "execution_count": 227,
     "metadata": {},
     "output_type": "execute_result"
    }
   ],
   "source": [
    "# Completar\n",
    "# Para comprobar que funciona, sorted(no_relacionado('Eddard-Stark'))[:5] es:\n",
    "# ['Addam-Marbrand', 'Aemon-Targaryen-(Maester-Aemon)', 'Aggo', 'Albett', 'Alliser-Thorne']\n",
    "personajes = list(relaciones.keys())\n",
    "\n",
    "def no_relacionados(nombre):\n",
    "    relacionados = [personaje for personaje, _ in relaciones[nombre]]\n",
    "    return [p for p in personajes if p not in relacionados and p != nombre]\n",
    "    \n",
    "sorted(no_relacionados(\"Eddard-Stark\"))[:5]\n"
   ]
  },
  {
   "cell_type": "code",
   "execution_count": 243,
   "metadata": {
    "tags": []
   },
   "outputs": [],
   "source": [
    "# Crear una lista con los nombres de todos los personajes\n",
    "personajes = list(relaciones.keys())\n",
    "\n",
    "# Definir una función que recibe un nombre y devuelve una lista con los nombres de los personajes no relacionados\n",
    "def no_relacionados(nombre):\n",
    "    # Buscar las relaciones correspondientes al personaje especificado\n",
    "    for personaje, relacione in relaciones.items():\n",
    "        if personaje == nombre:\n",
    "            # Crear una lista con los nombres de los personajes relacionados con el personaje especificado\n",
    "            relacionados = []\n",
    "            for relacion in relaciones:\n",
    "                relacionados.append(relacion[0])\n",
    "            break\n",
    "\n",
    "    # Crear una lista con los nombres de los personajes no relacionados con el personaje especificado\n",
    "    no_relacionados = []\n",
    "    for personaje in personajes:\n",
    "        if personaje not in relacionados and personaje != nombre:\n",
    "            no_relacionados.append(personaje)\n",
    "\n",
    "    return no_relacionados"
   ]
  },
  {
   "cell_type": "code",
   "execution_count": 244,
   "metadata": {
    "tags": []
   },
   "outputs": [
    {
     "data": {
      "text/plain": [
       "['Addam-Marbrand',\n",
       " 'Aegon-I-Targaryen',\n",
       " 'Aemon-Targaryen-(Maester-Aemon)',\n",
       " 'Aerys-II-Targaryen',\n",
       " 'Aggo']"
      ]
     },
     "execution_count": 244,
     "metadata": {},
     "output_type": "execute_result"
    }
   ],
   "source": [
    "sorted(no_relacionados(\"Eddard-Stark\"))[:5]"
   ]
  },
  {
   "cell_type": "markdown",
   "metadata": {},
   "source": [
    "**6.** Los nombres se componen generalmente de **_nombre-apellido_**, con algunas excepciones como **_Aemon-Targaryen-(Maester-Aemon)_**, o personajes secundarios como **_Harwin_**. Obtener una lista de personajes compuesta únicamente de nombres que cumplan el patrón `nombre-apellido`."
   ]
  },
  {
   "cell_type": "markdown",
   "metadata": {},
   "source": [
    "<div class=\"alert alert-block alert-info\">\n",
    "<i class=\"fa fa-info-circle\" aria-hidden=\"true\"></i>\n",
    "Puede ser de utilidad la siguiente función de los <i>Strings</i>:\n",
    "</div>\n",
    "\n",
    "La función `str.count(c)` devuelve un entero, indicando las veces que el carácter `c` aparece en el string. Por ejemplo:\n",
    "\n",
    "```\n",
    "s = \"Javier-Cózar\".count('-')  # Devuelve 1\n",
    "s = \"Javier-Cózar-del-Olmo\".count('-')  # Devuelve 3\n",
    "```"
   ]
  },
  {
   "cell_type": "code",
   "execution_count": 242,
   "metadata": {},
   "outputs": [
    {
     "data": {
      "text/plain": [
       "105"
      ]
     },
     "execution_count": 242,
     "metadata": {},
     "output_type": "execute_result"
    }
   ],
   "source": [
    "# Completar\n",
    "# Para comprobar que funciona, la lista obtenida, nombre_apellidos, debe tener una longitud de 105 personajes.\n",
    "nombre_apellidos = [p.split('-') for p in personajes if p.count('-') == 1]\n",
    "len(nombre_apellidos)"
   ]
  },
  {
   "cell_type": "code",
   "execution_count": 248,
   "metadata": {
    "tags": []
   },
   "outputs": [
    {
     "data": {
      "text/plain": [
       "105"
      ]
     },
     "execution_count": 248,
     "metadata": {},
     "output_type": "execute_result"
    }
   ],
   "source": [
    "# Crear una lista vacía donde se agregarán los nombres y apellidos de los personajes\n",
    "nombre_apellidos = []\n",
    "\n",
    "# Recorrer la lista de personajes\n",
    "for p in personajes:\n",
    "    # Verificar si el nombre del personaje tiene un único guion medio\n",
    "    if p.count('-') == 1:\n",
    "        # Separar el nombre y los apellidos utilizando el guion medio como separador\n",
    "        partes = p.split('-')\n",
    "        # Agregar la lista de partes a la lista de nombre_apellidos\n",
    "        nombre_apellidos.append(partes)\n",
    "        \n",
    "len(nombre_apellidos)"
   ]
  },
  {
   "cell_type": "markdown",
   "metadata": {},
   "source": [
    "**7.** Hacer un diccionario (recomendamos `defaultdict`), con cada uno de los diferentes apellidos, siendo el valor la lista de personajes (puede ser un string `Nombre Apellido`) pertenecientes a esta familia (apellido). ¿Cuál es la familia con mayor numero de miembos? ¿Cuantas familias tienen un solo miembro?"
   ]
  },
  {
   "cell_type": "code",
   "execution_count": 260,
   "metadata": {
    "collapsed": true,
    "jupyter": {
     "outputs_hidden": true
    },
    "tags": []
   },
   "outputs": [
    {
     "data": {
      "text/plain": [
       "defaultdict(list,\n",
       "            {'Marbrand': ['Addam-Marbrand'],\n",
       "             'Lannister': ['Jaime-Lannister',\n",
       "              'Tywin-Lannister',\n",
       "              'Tyrion-Lannister',\n",
       "              'Cersei-Lannister',\n",
       "              'Kevan-Lannister',\n",
       "              'Lancel-Lannister'],\n",
       "             'Targaryen': ['Daenerys-Targaryen',\n",
       "              'Rhaegar-Targaryen',\n",
       "              'Viserys-Targaryen'],\n",
       "             'Stark': ['Eddard-Stark',\n",
       "              'Brandon-Stark',\n",
       "              'Arya-Stark',\n",
       "              'Benjen-Stark',\n",
       "              'Bran-Stark',\n",
       "              'Catelyn-Stark',\n",
       "              'Rickon-Stark',\n",
       "              'Robb-Stark',\n",
       "              'Sansa-Stark',\n",
       "              'Rickard-Stark',\n",
       "              'Lyanna-Stark'],\n",
       "             'Thorne': ['Alliser-Thorne'],\n",
       "             'Marsh': ['Bowen-Marsh'],\n",
       "             'Mormont': ['Jeor-Mormont', 'Jorah-Mormont', 'Maege-Mormont'],\n",
       "             'Snow': ['Jon-Snow'],\n",
       "             'Tarly': ['Samwell-Tarly', 'Randyll-Tarly'],\n",
       "             'Hightower': ['Gerold-Hightower'],\n",
       "             'Arryn': ['Jon-Arryn', 'Lysa-Arryn', 'Robert-Arryn'],\n",
       "             'Baratheon': ['Robert-Baratheon',\n",
       "              'Joffrey-Baratheon',\n",
       "              'Myrcella-Baratheon',\n",
       "              'Tommen-Baratheon',\n",
       "              'Renly-Baratheon',\n",
       "              'Stannis-Baratheon'],\n",
       "             'Cassel': ['Jory-Cassel', 'Rodrik-Cassel'],\n",
       "             'Dayne': ['Arthur-Dayne'],\n",
       "             'Payne': ['Ilyn-Payne'],\n",
       "             'Poole': ['Jeyne-Poole', 'Vayon-Poole'],\n",
       "             'Trant': ['Meryn-Trant'],\n",
       "             'Baelish': ['Petyr-Baelish'],\n",
       "             'Clegane': ['Sandor-Clegane', 'Gregor-Clegane'],\n",
       "             'Forel': ['Syrio-Forel'],\n",
       "             'Oakheart': ['Arys-Oakheart'],\n",
       "             'Greyjoy': ['Balon-Greyjoy', 'Theon-Greyjoy'],\n",
       "             'Swann': ['Balon-Swann'],\n",
       "             'Selmy': ['Barristan-Selmy'],\n",
       "             'Blount': ['Boros-Blount'],\n",
       "             'Rykker': ['Jaremy-Rykker'],\n",
       "             'Rayder': ['Mance-Rayder'],\n",
       "             'Royce': ['Waymar-Royce', 'Nestor-Royce'],\n",
       "             'Dondarrion': ['Beric-Dondarrion'],\n",
       "             'Tyrell': ['Loras-Tyrell', 'Mace-Tyrell'],\n",
       "             'Mollen': ['Hallis-Mollen'],\n",
       "             'Karstark': ['Rickard-Karstark', 'Torrhen-Karstark'],\n",
       "             'Egen': ['Vardis-Egen'],\n",
       "             'Wode': ['Willis-Wode'],\n",
       "             'Tully': ['Brynden-Tully', 'Edmure-Tully', 'Hoster-Tully'],\n",
       "             'Frey': ['Walder-Frey',\n",
       "              'Stevron-Frey',\n",
       "              'Danwell-Frey',\n",
       "              'Hosteen-Frey',\n",
       "              'Jared-Frey'],\n",
       "             'Waynwood': ['Donnel-Waynwood'],\n",
       "             'Hunter': ['Eon-Hunter'],\n",
       "             'Heddle': ['Masha-Heddle'],\n",
       "             'Tumitis': ['Moreo-Tumitis'],\n",
       "             'Stone': ['Mya-Stone'],\n",
       "             'Redfort': ['Mychel-Redfort'],\n",
       "             'Blackwood': ['Tytos-Blackwood'],\n",
       "             'Manderly': ['Wendel-Manderly'],\n",
       "             'Slynt': ['Janos-Slynt'],\n",
       "             'Piper': ['Clement-Piper', 'Marq-Piper'],\n",
       "             'Vance': ['Karyl-Vance'],\n",
       "             'Mopatis': ['Illyrio-Mopatis'],\n",
       "             'Hornwood': ['Daryn-Hornwood'],\n",
       "             'Noye': ['Donal-Noye'],\n",
       "             'Glover': ['Galbart-Glover'],\n",
       "             'Reed': ['Howland-Reed'],\n",
       "             'Darry': ['Raymun-Darry'],\n",
       "             'Mott': ['Tobho-Mott'],\n",
       "             '(guard)': ['Wyl-(guard)'],\n",
       "             'Bolton': ['Roose-Bolton'],\n",
       "             '(prologue)': ['Will-(prologue)'],\n",
       "             'Whent': ['Oswell-Whent'],\n",
       "             'Swyft': ['Harys-Swyft'],\n",
       "             'Flowers': ['Jafer-Flowers'],\n",
       "             'Bracken': ['Jonos-Bracken'],\n",
       "             'Lefford': ['Leo-Lefford'],\n",
       "             'Corbray': ['Lyn-Corbray'],\n",
       "             'Redwyne': ['Paxter-Redwyne']})"
      ]
     },
     "execution_count": 260,
     "metadata": {},
     "output_type": "execute_result"
    }
   ],
   "source": [
    "# Completar\n",
    "# Para evitar spoilers, no se dará la solución de este último apartado ;-)\n",
    "familias = defaultdict(list)\n",
    "\n",
    "for nombre, apellido in nombre_apellidos:\n",
    "    familias[apellido].append(f\"{nombre}-{apellido}\")\n",
    "familias"
   ]
  },
  {
   "cell_type": "code",
   "execution_count": 261,
   "metadata": {
    "tags": []
   },
   "outputs": [
    {
     "data": {
      "text/plain": [
       "(11, 'Stark')"
      ]
     },
     "execution_count": 261,
     "metadata": {},
     "output_type": "execute_result"
    }
   ],
   "source": [
    "# familia con mas miembros\n",
    "max([(len(miembros), familia) for familia, miembros in familias.items()])"
   ]
  },
  {
   "cell_type": "code",
   "execution_count": 272,
   "metadata": {
    "tags": []
   },
   "outputs": [
    {
     "name": "stdout",
     "output_type": "stream",
     "text": [
      "La familia con más miembros es: Stark 11\n"
     ]
    }
   ],
   "source": [
    "# Crear una lista vacía para almacenar la longitud de cada familia.\n",
    "longitudes_familias = []\n",
    "\n",
    "# Iterar sobre cada familia y sus miembros en el diccionario \"familias\".\n",
    "for familia, miembros in familias.items():\n",
    "    # Obtener la longitud de la lista de miembros de la familia actual y agregarla a la lista de longitudes de familias.\n",
    "    longitud_familia = len(miembros)\n",
    "    longitudes_familias.append(longitud_familia)\n",
    "\n",
    "# Obtener la longitud máxima de todas las familias utilizando la función max() y almacenarla en una variable.\n",
    "longitud_maxima = max(longitudes_familias)\n",
    "\n",
    "# Iterar sobre cada familia y sus miembros en el diccionario \"familias\".\n",
    "for familia, miembros in familias.items():\n",
    "    # Verificar si la longitud de la lista de miembros de la familia actual es igual a la longitud máxima.\n",
    "    if len(miembros) == longitud_maxima:\n",
    "        # Si es así, imprimir el nombre de la familia.\n",
    "        print(\"La familia con más miembros es:\", familia, longitud_maxima)\n"
   ]
  },
  {
   "cell_type": "code",
   "execution_count": 281,
   "metadata": {
    "collapsed": true,
    "jupyter": {
     "outputs_hidden": true
    },
    "tags": []
   },
   "outputs": [
    {
     "data": {
      "text/plain": [
       "['Marbrand',\n",
       " 'Thorne',\n",
       " 'Marsh',\n",
       " 'Snow',\n",
       " 'Hightower',\n",
       " 'Dayne',\n",
       " 'Payne',\n",
       " 'Trant',\n",
       " 'Baelish',\n",
       " 'Forel',\n",
       " 'Oakheart',\n",
       " 'Swann',\n",
       " 'Selmy',\n",
       " 'Blount',\n",
       " 'Rykker',\n",
       " 'Rayder',\n",
       " 'Dondarrion',\n",
       " 'Mollen',\n",
       " 'Egen',\n",
       " 'Wode',\n",
       " 'Waynwood',\n",
       " 'Hunter',\n",
       " 'Heddle',\n",
       " 'Tumitis',\n",
       " 'Stone',\n",
       " 'Redfort',\n",
       " 'Blackwood',\n",
       " 'Manderly',\n",
       " 'Slynt',\n",
       " 'Vance',\n",
       " 'Mopatis',\n",
       " 'Hornwood',\n",
       " 'Noye',\n",
       " 'Glover',\n",
       " 'Reed',\n",
       " 'Darry',\n",
       " 'Mott',\n",
       " '(guard)',\n",
       " 'Bolton',\n",
       " '(prologue)',\n",
       " 'Whent',\n",
       " 'Swyft',\n",
       " 'Flowers',\n",
       " 'Bracken',\n",
       " 'Lefford',\n",
       " 'Corbray',\n",
       " 'Redwyne']"
      ]
     },
     "execution_count": 281,
     "metadata": {},
     "output_type": "execute_result"
    }
   ],
   "source": [
    "# familias con un solo miembro\n",
    "[familia for familia, miembros in familias.items() if len(miembros) == 1]"
   ]
  },
  {
   "cell_type": "code",
   "execution_count": 284,
   "metadata": {
    "collapsed": true,
    "jupyter": {
     "outputs_hidden": true
    },
    "tags": []
   },
   "outputs": [
    {
     "name": "stdout",
     "output_type": "stream",
     "text": [
      "La familia con un solo miembro es: Marbrand 1\n",
      "La familia con un solo miembro es: Thorne 1\n",
      "La familia con un solo miembro es: Marsh 1\n",
      "La familia con un solo miembro es: Snow 1\n",
      "La familia con un solo miembro es: Hightower 1\n",
      "La familia con un solo miembro es: Dayne 1\n",
      "La familia con un solo miembro es: Payne 1\n",
      "La familia con un solo miembro es: Trant 1\n",
      "La familia con un solo miembro es: Baelish 1\n",
      "La familia con un solo miembro es: Forel 1\n",
      "La familia con un solo miembro es: Oakheart 1\n",
      "La familia con un solo miembro es: Swann 1\n",
      "La familia con un solo miembro es: Selmy 1\n",
      "La familia con un solo miembro es: Blount 1\n",
      "La familia con un solo miembro es: Rykker 1\n",
      "La familia con un solo miembro es: Rayder 1\n",
      "La familia con un solo miembro es: Dondarrion 1\n",
      "La familia con un solo miembro es: Mollen 1\n",
      "La familia con un solo miembro es: Egen 1\n",
      "La familia con un solo miembro es: Wode 1\n",
      "La familia con un solo miembro es: Waynwood 1\n",
      "La familia con un solo miembro es: Hunter 1\n",
      "La familia con un solo miembro es: Heddle 1\n",
      "La familia con un solo miembro es: Tumitis 1\n",
      "La familia con un solo miembro es: Stone 1\n",
      "La familia con un solo miembro es: Redfort 1\n",
      "La familia con un solo miembro es: Blackwood 1\n",
      "La familia con un solo miembro es: Manderly 1\n",
      "La familia con un solo miembro es: Slynt 1\n",
      "La familia con un solo miembro es: Vance 1\n",
      "La familia con un solo miembro es: Mopatis 1\n",
      "La familia con un solo miembro es: Hornwood 1\n",
      "La familia con un solo miembro es: Noye 1\n",
      "La familia con un solo miembro es: Glover 1\n",
      "La familia con un solo miembro es: Reed 1\n",
      "La familia con un solo miembro es: Darry 1\n",
      "La familia con un solo miembro es: Mott 1\n",
      "La familia con un solo miembro es: (guard) 1\n",
      "La familia con un solo miembro es: Bolton 1\n",
      "La familia con un solo miembro es: (prologue) 1\n",
      "La familia con un solo miembro es: Whent 1\n",
      "La familia con un solo miembro es: Swyft 1\n",
      "La familia con un solo miembro es: Flowers 1\n",
      "La familia con un solo miembro es: Bracken 1\n",
      "La familia con un solo miembro es: Lefford 1\n",
      "La familia con un solo miembro es: Corbray 1\n",
      "La familia con un solo miembro es: Redwyne 1\n"
     ]
    }
   ],
   "source": [
    "longitudes_familias = []\n",
    "\n",
    "for familia, miembros in familias.items():\n",
    "    longitud_familia = len(miembros)\n",
    "    longitudes_familias.append(longitud_familia)\n",
    "\n",
    "for familia, miembros in familias.items():\n",
    "       if len(miembros) == 1:\n",
    "        print(\"La familia con un solo miembro es:\", familia, len(miembros))\n"
   ]
  },
  {
   "cell_type": "markdown",
   "metadata": {},
   "source": [
    "\n",
    "\n",
    "<h3><font color=\"#00586D\" size=4> <i class=\"fa fa-pencil-square-o\" aria-hidden=\"true\" style=\"color:#00586D\"></i> Ejercicio 8</font></h3>\n",
    "\n",
    "<h3><font color=\"#00586D\" size=4> Canciones de Spotify </font></h3>\n",
    "\n",
    "\n",
    "El archivo `tracks.tsv` (ficheor como el csv pero usando tabulaciones en lugar de comas como separador) contiene un total de 45128 canciones de spotify, cada una de ellas con la información:\n",
    "- track: nombre de la canción\n",
    "- album: nombre del album al que pertenece\n",
    "- artist: nombre del artista\n",
    "- duration: duración en milisegundos\n",
    "- genres: lista de generos del artista (con el formato de python ['genero1', 'genero2', ...]\n",
    "\n",
    "Almacenaremos esta información en una estructura de clases. Para ello, vamos a crear una clase `Album`, otra `Artist` y otra `Track`. A continuación describimos la información que debe contener cada una de las clases:\n",
    "\n",
    "### Album\n",
    "\n",
    "Contiene los atributos `name` (nombre del album), `tracks` (lista de objetos `Track`, correspondientes a las canciones del album) y `artists` (un conjunto que contiene objetos `Artist`, correspondientes a los artistas incluidos en el album).\n",
    "\n",
    "Se deben implementar:\n",
    "\n",
    "- El constructor, que se le pase el nombre del album y lo almacene. Además debe inicializar las estructuras de datos necesarias (`trackas` y `artists`).\n",
    "- Una función llamada `add_track`, que se le pase un objeto `Track` y registre una canción en el álbum. Debe actualizar también el conjunto de `artists`.\n",
    "\n",
    "### Artist\n",
    "\n",
    "Contiene los atributos `name` (nombre del artista), `genres` (lista de géneros del artista) y `tracks` (lista de objetos `Track` de las canciones compuestas por el artista o grupo de artistas).\n",
    "\n",
    "Se deben implementar:\n",
    "\n",
    "- El constructor, que se le pase el nombre del artista y la lista de generos.  Además debe inicializar las estructuras de datos necesarias (`trackas`).\n",
    "\n",
    "- Una función llamada `add_track`, que se le pase un objeto `Track` y registre una canción en el álbum.\n",
    "\n",
    "### Track\n",
    "\n",
    "Contiene los atributos `name` (nombre de la canción), `duration` (duración de la canción en milisegundos) y `artist` (objeto `Artist` correspondiente con el artista de la canción).\n",
    "\n",
    "Se deben implementar:\n",
    "\n",
    "- El constructor, que se le pase el nombre de la canción, la duración, y el objeto `Artist`.\n",
    "\n",
    "\n",
    "Se deben realizar los siguientes ejercicios:\n",
    "\n",
    "1. Leer el fichero `tracks.tsv`\n",
    "2. Procesar cada una de las lineas, creando los objetos de las clases correspondientes en cada caso. Ten en cuenta que cada linea es un string, que debe ser procesado (dividir por tabuladores). Además, el campo correspondiente a los géneros es una lista en formato python transformada en string. Para facilitar su transformación a lista (desde string) se proporciona una función `parse_genres`, que se le pasa el string y devuelve la lista.\n",
    "3. En el proceso de construcción (parseo de cada linea de tracks) se deben rellenar iterativamente las variables `albums`, `artists`, `all_genres` y `total_duration`.\n",
    "\n",
    "`albums`: Un diccionario cuya clave es el nombre del álbum, y el valor es el objeto `Album`\n",
    "`artists`: Un diccionario cuya clave es el nombre del artista, y el valor es el objeto `Artist`\n",
    "`all_genres`: Un conjunto que contiene los nombres de todos los géneros (diferentes) de los artistas procesados\n",
    "`total_duration`: Un número entero que representa la duración total de todas las canciones procesadas (contiene la suma de todas las canciones procesadas)."
   ]
  },
  {
   "cell_type": "code",
   "execution_count": 290,
   "metadata": {
    "collapsed": true,
    "jupyter": {
     "outputs_hidden": true
    },
    "tags": []
   },
   "outputs": [
    {
     "name": "stdout",
     "output_type": "stream",
     "text": [
      "track\talbum\tartist\tduration\tgenres\n",
      "Andante, Andante\tSuper Trouper\tABBA\t278880\t['europop', 'swedish pop']\n",
      "As Good As New - Live\tLive At Wembley Arena\tABBA\t206080\t['europop', 'swedish pop']\n",
      "Bang-A-Boomerang\tAbba\tABBA\t185109\t['europop', 'swedish pop']\n",
      "Cassandra\tThe Visitors\tABBA\t296705\t['europop', 'swedish pop']\n",
      "Chiquitita\tVoulez-Vous\tABBA\t328000\t['europop', 'swedish pop']\n",
      "Crazy World\tAbba Gold Anniversary Edition\tABBA\t224933\t['europop', 'swedish pop']\n",
      "Dance (While The Music Still Goes On)\tWaterloo\tABBA\t194813\t['europop', 'swedish pop']\n",
      "Dancing Queen\tArrival\tABBA\t230400\t['europop', 'swedish pop']\n",
      "Disillusion\tRing Ring\tABBA\t184280\t['europop', 'swedish pop']\n"
     ]
    }
   ],
   "source": [
    "!head data/tracks.tsv"
   ]
  },
  {
   "cell_type": "code",
   "execution_count": 4,
   "metadata": {
    "tags": []
   },
   "outputs": [],
   "source": [
    "def parse_genres(genres_str):\n",
    "    # Eliminamos los caracteres no deseados de la cadena de géneros\n",
    "    genres_str = genres_str.replace('[', '').replace(']', '').replace('\"', '').replace(\"'\", '')\n",
    "\n",
    "    # Dividimos la cadena en una lista de géneros utilizando ',' como separador\n",
    "    genres_list = genres_str.split(',')\n",
    "\n",
    "    # Creamos una lista vacía donde almacenaremos los géneros limpios\n",
    "    cleaned_genres = []\n",
    "\n",
    "    # Iteramos sobre cada género de la lista\n",
    "    for genre in genres_list:\n",
    "        # Eliminamos los espacios en blanco del inicio y final del género\n",
    "        cleaned_genre = genre.strip()\n",
    "\n",
    "        # Si el género no está vacío, lo añadimos a la lista de géneros limpios\n",
    "        if cleaned_genre:\n",
    "            cleaned_genres.append(cleaned_genre)\n",
    "\n",
    "    # Devolvemos la lista de géneros limpios\n",
    "    return cleaned_genres\n"
   ]
  },
  {
   "cell_type": "code",
   "execution_count": null,
   "metadata": {},
   "outputs": [],
   "source": []
  },
  {
   "cell_type": "code",
   "execution_count": 61,
   "metadata": {
    "tags": []
   },
   "outputs": [],
   "source": [
    "# -------------------------------------------------------------------------------------------------------------------\n",
    "# Cambios para que lo entienda\n",
    "\n",
    "albums = {}\n",
    "artists = {}\n",
    "all_genres = set()\n",
    "total_duration = 0\n",
    "\n",
    "#------------------------------------------------------------------------------- \n",
    "with open(\"data/tracks.tsv\") as f:\n",
    "    track_info = f.readlines()\n",
    "#-------------------------------------------------------------------------------\n",
    "\n",
    "class Album:\n",
    "#   lo que define al albun y sus relaciones\n",
    "    def __init__(self, name):\n",
    "        self.name = name\n",
    "        self.tracks = []\n",
    "        self.artists = set()\n",
    "        \n",
    "#   Para añadir los tracks y los artistas que conforma al track\n",
    "    def add_track(self, track):\n",
    "        self.tracks.append(track)\n",
    "        self.artists.add(track.artist)\n",
    "\n",
    "    \n",
    "    def contains_genres(self, genres):\n",
    "        for genre in genres:\n",
    "            contains_genre = False\n",
    "            for artist in self.artists:\n",
    "                if genre in artist.genres:\n",
    "                    contains_genre = True\n",
    "                    break\n",
    "            if not contains_genre:\n",
    "                return False\n",
    "        return True\n",
    "     \n",
    "    def __repr__(self):\n",
    "    # Este método se utiliza para representar al objeto Album como una cadena de texto\n",
    "    # Esta cadena se utiliza para imprimir el objeto en la consola o en un archivo de registro, por ejemplo\n",
    "    # En este caso, la cadena indica el nombre del álbum, el número de pistas y el número de artistas diferentes\n",
    "        return f\"El álbum '{self.name}' incluye {len(self.tracks)} pistas y {len(self.artists)} artistas diferentes\"\n",
    "    \n",
    "#--------------------------------------------------------------------------------------------------------------------------------- \n",
    "\n",
    "class Track:\n",
    "    #definimos su nombre, duracion y artistas\n",
    "    def __init__(self, name, duration, artist):\n",
    "        #Lo hacemos global para que se pueda sobre escribir con el otro valor\n",
    "        global total_duration\n",
    "        self.name = name\n",
    "        self.duration = duration\n",
    "        self.artist = artist\n",
    "        #Cuando se ponga un valor en duracion este se sumara en el total duration de forma progresiva\n",
    "        total_duration += duration\n",
    "    def __repr__(self):\n",
    "        return f\"{self.name} ({self.duration}) lo compone por el artista {artist}\"\n",
    "    \n",
    "# -----------------------------------------------------------------------------------------------------------------------------------\n",
    "\n",
    "class Artist:\n",
    "    # Esta es la definición de la clase Artist. Esta clase contiene información sobre su nombre, género(s) musical(es) y las pistas que ha creado\n",
    "    # El método toma dos argumentos: el nombre del artista y una lista de géneros musicales\n",
    "    def __init__(self, name, genres):\n",
    "        # Cadena que representa el nombre del artista\n",
    "        self.name = name\n",
    "        # Cadenas que representan los géneros musicales del artista\n",
    "        self.genres = genres\n",
    "        #Se utiliza para agregar los géneros de este artista al set()=\"all_genres\"\n",
    "        all_genres.update(genres)\n",
    "        # El atributo \"tracks\" es una lista vacía que almacenará las pistas creadas por este artista\n",
    "        self.tracks = []\n",
    "        \n",
    "    def add_track(self, track):\n",
    "        self.tracks.append(track)\n",
    "        \n",
    "    # El método \"__repr__\" se utiliza para representar al objeto Artist como una cadena de texto\n",
    "    # Esta cadena se utiliza para imprimir el objeto en la consola o en un archivo de registro¡\n",
    "    def __repr__(self):\n",
    "        # Utilizamos la sintaxis f-string para concatenar los valores de los atributos del objeto con texto adicional\n",
    "        return f\"{self.name} ({self.genres}). Compuesto por {len(self.tracks)} tracks.\"\n",
    "# -----------------------------------------------------------------------------------------\n",
    "    # Track_info es el texto con la informacion\n",
    "for track in track_info[1:]:\n",
    "    # el .split('\\t') es para separar tabulaciones\n",
    "    name, album, artist, duration, genres = track.split('\\t')\n",
    "    duration = int(duration)\n",
    "    genres = parse_genres(genres)\n",
    "    \n",
    "    # create objects\n",
    "    if artist not in artists:\n",
    "        artists[artist] = Artist(artist, genres)\n",
    "\n",
    "    tr = Track(track, duration, artists[artist])\n",
    "    artists[artist].add_track(tr)\n",
    "    \n",
    "    if album not in albums:\n",
    "        albums[album] = Album(album)\n",
    "    albums[album].add_track(tr)"
   ]
  },
  {
   "cell_type": "markdown",
   "metadata": {},
   "source": [
    "Una vez creada la estructura de clases (los objetos), se debe responder a las siguientes preguntas:\n",
    "\n",
    "- ¿Cuántos segundos de duración suman todas las canciones?\n",
    "- ¿Qué artista ha compuesto mas canciones?\n",
    "- ¿Qué álbum contiene más canciones? ¿Y más artistas diferenes?\n",
    "- ¿Qué álbum tiene mayor duración?\n",
    "- ¿Qué artista compone, en media, las canciones mas largas? ¿Y más cortas?\n",
    "- ¿Cuántas canciones hay de artistas que componen género 'spanish pop'?\n",
    "- Lista los albumes que contienen canciones de artistas con género 'blues' y artistas con género 'country'. Implementar para ello una función `contains_genres` en la clase `Album`, que se le pase una lista de nombres de géneros y devuelva `True` si para todos ellos existe al menos un artista de dicho género, y `False` en caso contrario."
   ]
  },
  {
   "cell_type": "code",
   "execution_count": 41,
   "metadata": {},
   "outputs": [
    {
     "data": {
      "text/plain": [
       "10892558.25"
      ]
     },
     "execution_count": 41,
     "metadata": {},
     "output_type": "execute_result"
    }
   ],
   "source": [
    "# 1º ¿Cuántos segundos de duración suman todas las canciones?\n",
    "total_duration/ 1000"
   ]
  },
  {
   "cell_type": "code",
   "execution_count": 42,
   "metadata": {
    "tags": []
   },
   "outputs": [
    {
     "name": "stdout",
     "output_type": "stream",
     "text": [
      "George Strait con un total de 179 pistas.\n"
     ]
    }
   ],
   "source": [
    "# 2º ¿Qué artista ha compuesto mas canciones?\n",
    "# Inicializamos la variable max_track_count a 0 para comparar el número de pistas de cada artista y encontrar el artista con el mayor número de pistas\n",
    "max_track_count = 0\n",
    "# Inicializamos la variable artist_with_max_tracks a None para almacenar el nombre del artista con el mayor número de pistas\n",
    "artist_with_max_tracks = None\n",
    "# Recorremos todos los artistas en el diccionario artists\n",
    "for artist in artists.values():\n",
    "    # Obtenemos el número de pistas que tiene el artista\n",
    "    track_count = len(artist.tracks)\n",
    "    # Si el número de pistas del artista es mayor que el valor actual de max_track_count,\n",
    "    # actualizamos max_track_count y artist_with_max_tracks con los nuevos valores\n",
    "    if track_count > max_track_count:\n",
    "        max_track_count = track_count\n",
    "        artist_with_max_tracks = artist.name\n",
    "# Imprimimos el nombre del artista con el mayor número de pistas\n",
    "print(f\"{artist_with_max_tracks} con un total de {max_track_count} pistas.\")\n"
   ]
  },
  {
   "cell_type": "code",
   "execution_count": 43,
   "metadata": {
    "tags": []
   },
   "outputs": [
    {
     "name": "stdout",
     "output_type": "stream",
     "text": [
      "El álbum con el mayor número de pistas es Greatest Hits con un total de 115 pistas.\n",
      "El álbum con el mayor número de artistas es Greatest Hits con un total de 44 artistas.\n"
     ]
    }
   ],
   "source": [
    "# 3-1º ¿Qué álbum contiene más canciones? \n",
    "max_track_count = 0\n",
    "album_with_max_tracks = None\n",
    "\n",
    "for album in albums.values():\n",
    "    track_count = len(album.tracks)\n",
    "    if track_count > max_track_count:\n",
    "        max_track_count = track_count\n",
    "        album_with_max_tracks = album.name\n",
    "print(f\"El álbum con el mayor número de pistas es {album_with_max_tracks} con un total de {max_track_count} pistas.\")\n",
    "\n",
    "# 3-2º¿Y más artistas diferenes?\n",
    "max_artist_count = 0\n",
    "album_with_max_artists = None\n",
    "\n",
    "for album in albums.values():\n",
    "    artist_count = len(album.artists)\n",
    "    if artist_count > max_artist_count:\n",
    "        max_artist_count = artist_count\n",
    "        album_with_max_artists = album.name\n",
    "print(f\"El álbum con el mayor número de artistas es {album_with_max_artists} con un total de {max_artist_count} artistas.\")\n"
   ]
  },
  {
   "cell_type": "code",
   "execution_count": 44,
   "metadata": {
    "tags": []
   },
   "outputs": [
    {
     "name": "stdout",
     "output_type": "stream",
     "text": [
      "Greatest Hits , 26656.22 segundos.\n"
     ]
    }
   ],
   "source": [
    "# 4º¿Qué álbum tiene mayor duración?\n",
    "max_duration = 0\n",
    "album_with_max_duration = None\n",
    "for album in albums.values():\n",
    "    album_duration = sum([t.duration for t in album.tracks]) / 1000\n",
    "    if album_duration > max_duration:\n",
    "        max_duration = album_duration\n",
    "        album_with_max_duration = album.name\n",
    "print(f\"{album_with_max_duration} , {max_duration} segundos.\")\n"
   ]
  },
  {
   "cell_type": "code",
   "execution_count": 45,
   "metadata": {
    "tags": []
   },
   "outputs": [
    {
     "name": "stdout",
     "output_type": "stream",
     "text": [
      "Blind Faith, 1156.23 segundos.\n",
      "Halloween AAA, 13.25 segundos.\n"
     ]
    }
   ],
   "source": [
    "# 5-1º ¿Qué artista compone, en media, las canciones mas largas? \n",
    "max_avg_duration = 0\n",
    "artist_with_max_avg_duration = None\n",
    "for artist in artists.values():\n",
    "    total_duration = sum([t.duration for t in artist.tracks])\n",
    "    avg_duration = total_duration / (1000 * len(artist.tracks))\n",
    "    if avg_duration > max_avg_duration:\n",
    "        max_avg_duration = avg_duration\n",
    "        artist_with_max_avg_duration = artist.name\n",
    "print(f\"{artist_with_max_avg_duration}, {max_avg_duration:.2f} segundos.\")\n",
    "\n",
    "# 5-2º¿Y más cortas?\n",
    "min_avg_duration = float('inf')\n",
    "artist_with_min_avg_duration = None\n",
    "for artist in artists.values():\n",
    "    total_duration = sum([t.duration for t in artist.tracks])\n",
    "    avg_duration = total_duration / (1000 * len(artist.tracks))\n",
    "    if avg_duration < min_avg_duration:\n",
    "        min_avg_duration = avg_duration\n",
    "        artist_with_min_avg_duration = artist.name\n",
    "print(f\"{artist_with_min_avg_duration}, {min_avg_duration:.2f} segundos.\")\n"
   ]
  },
  {
   "cell_type": "code",
   "execution_count": 60,
   "metadata": {
    "tags": []
   },
   "outputs": [
    {
     "name": "stdout",
     "output_type": "stream",
     "text": [
      "El álbum 'Ni Rosas, Ni Juguetes (Dúo Con Pitbull - Mr 305 Remix)' incluye 1 pistas y 1 artistas diferentes\n",
      "El álbum 'Grease. El Musical De Tu Vida (Por Edurne)' incluye 6 pistas y 4 artistas diferentes\n"
     ]
    }
   ],
   "source": [
    "for album in albums.values():\n",
    "    if album.contains_genres(['spanish pop']):\n",
    "        print(album)"
   ]
  },
  {
   "cell_type": "code",
   "execution_count": 62,
   "metadata": {
    "tags": []
   },
   "outputs": [
    {
     "name": "stdout",
     "output_type": "stream",
     "text": [
      "El álbum 'Love Songs' incluye 74 pistas y 23 artistas diferentes\n",
      "El álbum 'The Definitive Collection' incluye 37 pistas y 8 artistas diferentes\n",
      "El álbum 'Gold' incluye 21 pistas y 8 artistas diferentes\n",
      "El álbum 'The Best Of' incluye 18 pistas y 10 artistas diferentes\n"
     ]
    }
   ],
   "source": [
    "for album in albums.values():\n",
    "    if album.contains_genres(['blues', 'country']):\n",
    "        print(album)"
   ]
  }
 ],
 "metadata": {
  "kernelspec": {
   "display_name": "Python 3 (ipykernel)",
   "language": "python",
   "name": "python3"
  },
  "language_info": {
   "codemirror_mode": {
    "name": "ipython",
    "version": 3
   },
   "file_extension": ".py",
   "mimetype": "text/x-python",
   "name": "python",
   "nbconvert_exporter": "python",
   "pygments_lexer": "ipython3",
   "version": "3.8.10"
  }
 },
 "nbformat": 4,
 "nbformat_minor": 4
}
